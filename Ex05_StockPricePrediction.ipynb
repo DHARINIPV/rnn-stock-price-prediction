{
  "cells": [
    {
      "cell_type": "markdown",
      "metadata": {},
      "source": [
        "### Name: Dharini PV\n",
        "### Register Number: 212222240024"
      ]
    },
    {
      "cell_type": "code",
      "execution_count": 1,
      "metadata": {
        "id": "rWulUnXvE0XQ"
      },
      "outputs": [
        {
          "name": "stderr",
          "output_type": "stream",
          "text": [
            "2024-04-02 23:42:01.081097: I tensorflow/core/platform/cpu_feature_guard.cc:193] This TensorFlow binary is optimized with oneAPI Deep Neural Network Library (oneDNN) to use the following CPU instructions in performance-critical operations:  AVX2 AVX_VNNI FMA\n",
            "To enable them in other operations, rebuild TensorFlow with the appropriate compiler flags.\n",
            "2024-04-02 23:42:01.320057: I tensorflow/core/util/util.cc:169] oneDNN custom operations are on. You may see slightly different numerical results due to floating-point round-off errors from different computation orders. To turn them off, set the environment variable `TF_ENABLE_ONEDNN_OPTS=0`.\n",
            "2024-04-02 23:42:01.378580: W tensorflow/stream_executor/platform/default/dso_loader.cc:64] Could not load dynamic library 'libcudart.so.11.0'; dlerror: libcudart.so.11.0: cannot open shared object file: No such file or directory\n",
            "2024-04-02 23:42:01.378605: I tensorflow/stream_executor/cuda/cudart_stub.cc:29] Ignore above cudart dlerror if you do not have a GPU set up on your machine.\n",
            "2024-04-02 23:42:01.428659: E tensorflow/stream_executor/cuda/cuda_blas.cc:2981] Unable to register cuBLAS factory: Attempting to register factory for plugin cuBLAS when one has already been registered\n",
            "2024-04-02 23:42:02.307416: W tensorflow/stream_executor/platform/default/dso_loader.cc:64] Could not load dynamic library 'libnvinfer.so.7'; dlerror: libnvinfer.so.7: cannot open shared object file: No such file or directory\n",
            "2024-04-02 23:42:02.307487: W tensorflow/stream_executor/platform/default/dso_loader.cc:64] Could not load dynamic library 'libnvinfer_plugin.so.7'; dlerror: libnvinfer_plugin.so.7: cannot open shared object file: No such file or directory\n",
            "2024-04-02 23:42:02.307492: W tensorflow/compiler/tf2tensorrt/utils/py_utils.cc:38] TF-TRT Warning: Cannot dlopen some TensorRT libraries. If you would like to use Nvidia GPU with TensorRT, please make sure the missing libraries mentioned above are installed properly.\n"
          ]
        }
      ],
      "source": [
        "import numpy as np\n",
        "import matplotlib.pyplot as plt\n",
        "import pandas as pd\n",
        "from sklearn.preprocessing import MinMaxScaler\n",
        "from keras import layers\n",
        "from keras.models import Sequential"
      ]
    },
    {
      "cell_type": "code",
      "execution_count": 2,
      "metadata": {
        "id": "G9yM-i2fGSeD"
      },
      "outputs": [],
      "source": [
        "dataset_train = pd.read_csv('trainset.csv')"
      ]
    },
    {
      "cell_type": "code",
      "execution_count": 3,
      "metadata": {
        "id": "ZnNFxG1yHJXj"
      },
      "outputs": [
        {
          "data": {
            "text/plain": [
              "Index(['Date', 'Open', 'High', 'Low', 'Close', 'Adj Close', 'Volume'], dtype='object')"
            ]
          },
          "execution_count": 3,
          "metadata": {},
          "output_type": "execute_result"
        }
      ],
      "source": [
        "dataset_train.columns"
      ]
    },
    {
      "cell_type": "code",
      "execution_count": 4,
      "metadata": {
        "id": "ioHdtmFxHSQ5"
      },
      "outputs": [
        {
          "data": {
            "text/html": [
              "<div>\n",
              "<style scoped>\n",
              "    .dataframe tbody tr th:only-of-type {\n",
              "        vertical-align: middle;\n",
              "    }\n",
              "\n",
              "    .dataframe tbody tr th {\n",
              "        vertical-align: top;\n",
              "    }\n",
              "\n",
              "    .dataframe thead th {\n",
              "        text-align: right;\n",
              "    }\n",
              "</style>\n",
              "<table border=\"1\" class=\"dataframe\">\n",
              "  <thead>\n",
              "    <tr style=\"text-align: right;\">\n",
              "      <th></th>\n",
              "      <th>Date</th>\n",
              "      <th>Open</th>\n",
              "      <th>High</th>\n",
              "      <th>Low</th>\n",
              "      <th>Close</th>\n",
              "      <th>Adj Close</th>\n",
              "      <th>Volume</th>\n",
              "    </tr>\n",
              "  </thead>\n",
              "  <tbody>\n",
              "    <tr>\n",
              "      <th>0</th>\n",
              "      <td>2013-01-02</td>\n",
              "      <td>357.385559</td>\n",
              "      <td>361.151062</td>\n",
              "      <td>355.959839</td>\n",
              "      <td>359.288177</td>\n",
              "      <td>359.288177</td>\n",
              "      <td>5115500</td>\n",
              "    </tr>\n",
              "    <tr>\n",
              "      <th>1</th>\n",
              "      <td>2013-01-03</td>\n",
              "      <td>360.122742</td>\n",
              "      <td>363.600128</td>\n",
              "      <td>358.031342</td>\n",
              "      <td>359.496826</td>\n",
              "      <td>359.496826</td>\n",
              "      <td>4666500</td>\n",
              "    </tr>\n",
              "    <tr>\n",
              "      <th>2</th>\n",
              "      <td>2013-01-04</td>\n",
              "      <td>362.313507</td>\n",
              "      <td>368.339294</td>\n",
              "      <td>361.488861</td>\n",
              "      <td>366.600616</td>\n",
              "      <td>366.600616</td>\n",
              "      <td>5562800</td>\n",
              "    </tr>\n",
              "    <tr>\n",
              "      <th>3</th>\n",
              "      <td>2013-01-07</td>\n",
              "      <td>365.348755</td>\n",
              "      <td>367.301056</td>\n",
              "      <td>362.929504</td>\n",
              "      <td>365.001007</td>\n",
              "      <td>365.001007</td>\n",
              "      <td>3332900</td>\n",
              "    </tr>\n",
              "    <tr>\n",
              "      <th>4</th>\n",
              "      <td>2013-01-08</td>\n",
              "      <td>365.393463</td>\n",
              "      <td>365.771027</td>\n",
              "      <td>359.874359</td>\n",
              "      <td>364.280701</td>\n",
              "      <td>364.280701</td>\n",
              "      <td>3373900</td>\n",
              "    </tr>\n",
              "  </tbody>\n",
              "</table>\n",
              "</div>"
            ],
            "text/plain": [
              "         Date        Open        High         Low       Close   Adj Close  \\\n",
              "0  2013-01-02  357.385559  361.151062  355.959839  359.288177  359.288177   \n",
              "1  2013-01-03  360.122742  363.600128  358.031342  359.496826  359.496826   \n",
              "2  2013-01-04  362.313507  368.339294  361.488861  366.600616  366.600616   \n",
              "3  2013-01-07  365.348755  367.301056  362.929504  365.001007  365.001007   \n",
              "4  2013-01-08  365.393463  365.771027  359.874359  364.280701  364.280701   \n",
              "\n",
              "    Volume  \n",
              "0  5115500  \n",
              "1  4666500  \n",
              "2  5562800  \n",
              "3  3332900  \n",
              "4  3373900  "
            ]
          },
          "execution_count": 4,
          "metadata": {},
          "output_type": "execute_result"
        }
      ],
      "source": [
        "dataset_train.head()"
      ]
    },
    {
      "cell_type": "code",
      "execution_count": 5,
      "metadata": {
        "id": "od_Jh97fHxsp"
      },
      "outputs": [],
      "source": [
        "train_set = dataset_train.iloc[:,1:2].values"
      ]
    },
    {
      "cell_type": "code",
      "execution_count": 6,
      "metadata": {
        "id": "ipOhkvP0H8Ki"
      },
      "outputs": [
        {
          "data": {
            "text/plain": [
              "numpy.ndarray"
            ]
          },
          "execution_count": 6,
          "metadata": {},
          "output_type": "execute_result"
        }
      ],
      "source": [
        "type(train_set)"
      ]
    },
    {
      "cell_type": "code",
      "execution_count": 7,
      "metadata": {
        "id": "10qpaYabITYB"
      },
      "outputs": [
        {
          "data": {
            "text/plain": [
              "(1259, 1)"
            ]
          },
          "execution_count": 7,
          "metadata": {},
          "output_type": "execute_result"
        }
      ],
      "source": [
        "train_set.shape"
      ]
    },
    {
      "cell_type": "code",
      "execution_count": 8,
      "metadata": {
        "id": "Wc5QNHisIMcp"
      },
      "outputs": [],
      "source": [
        "sc = MinMaxScaler(feature_range=(0,1))\n",
        "training_set_scaled = sc.fit_transform(train_set)"
      ]
    },
    {
      "cell_type": "code",
      "execution_count": 9,
      "metadata": {
        "id": "VYMccXBzjMzz"
      },
      "outputs": [
        {
          "data": {
            "text/plain": [
              "(1259, 1)"
            ]
          },
          "execution_count": 9,
          "metadata": {},
          "output_type": "execute_result"
        }
      ],
      "source": [
        "training_set_scaled.shape"
      ]
    },
    {
      "cell_type": "code",
      "execution_count": 10,
      "metadata": {
        "id": "qO7NJjsCI1qq"
      },
      "outputs": [],
      "source": [
        "X_train_array = []\n",
        "y_train_array = []\n",
        "for i in range(60, 1259):\n",
        "  X_train_array.append(training_set_scaled[i-60:i,0])\n",
        "  y_train_array.append(training_set_scaled[i,0])\n",
        "X_train, y_train = np.array(X_train_array), np.array(y_train_array)\n",
        "X_train1 = X_train.reshape((X_train.shape[0], X_train.shape[1],1))\n"
      ]
    },
    {
      "cell_type": "code",
      "execution_count": 11,
      "metadata": {
        "id": "0rRZyii1IWmq"
      },
      "outputs": [
        {
          "data": {
            "text/plain": [
              "(1199, 60)"
            ]
          },
          "execution_count": 11,
          "metadata": {},
          "output_type": "execute_result"
        }
      ],
      "source": [
        "X_train.shape"
      ]
    },
    {
      "cell_type": "code",
      "execution_count": 12,
      "metadata": {
        "id": "BknoiyHTN_tb"
      },
      "outputs": [],
      "source": [
        "length = 60\n",
        "n_features = 1"
      ]
    },
    {
      "cell_type": "code",
      "execution_count": 13,
      "metadata": {
        "id": "tb1wq3smJuDF"
      },
      "outputs": [
        {
          "name": "stderr",
          "output_type": "stream",
          "text": [
            "2024-04-02 23:43:44.436553: W tensorflow/stream_executor/platform/default/dso_loader.cc:64] Could not load dynamic library 'libcuda.so.1'; dlerror: libcuda.so.1: cannot open shared object file: No such file or directory\n",
            "2024-04-02 23:43:44.436876: W tensorflow/stream_executor/cuda/cuda_driver.cc:263] failed call to cuInit: UNKNOWN ERROR (303)\n",
            "2024-04-02 23:43:44.436914: I tensorflow/stream_executor/cuda/cuda_diagnostics.cc:156] kernel driver does not appear to be running on this host (sec-HP-250-15-6-inch-G9-Notebook-PC): /proc/driver/nvidia/version does not exist\n",
            "2024-04-02 23:43:44.437327: I tensorflow/core/platform/cpu_feature_guard.cc:193] This TensorFlow binary is optimized with oneAPI Deep Neural Network Library (oneDNN) to use the following CPU instructions in performance-critical operations:  AVX2 AVX_VNNI FMA\n",
            "To enable them in other operations, rebuild TensorFlow with the appropriate compiler flags.\n"
          ]
        }
      ],
      "source": [
        "model = Sequential()\n",
        "model.add(layers.SimpleRNN(50,input_shape=(length,n_features)))\n",
        "model.add(layers.Dense(1))"
      ]
    },
    {
      "cell_type": "code",
      "execution_count": 14,
      "metadata": {},
      "outputs": [],
      "source": [
        "model.compile(optimizer='adam', loss='mse')"
      ]
    },
    {
      "cell_type": "code",
      "execution_count": 15,
      "metadata": {
        "id": "RmitWR-Qk500"
      },
      "outputs": [
        {
          "name": "stdout",
          "output_type": "stream",
          "text": [
            "Name: Dharini PV       Register Number: 212222240024\n",
            "Model: \"sequential\"\n",
            "_________________________________________________________________\n",
            " Layer (type)                Output Shape              Param #   \n",
            "=================================================================\n",
            " simple_rnn (SimpleRNN)      (None, 50)                2600      \n",
            "                                                                 \n",
            " dense (Dense)               (None, 1)                 51        \n",
            "                                                                 \n",
            "=================================================================\n",
            "Total params: 2,651\n",
            "Trainable params: 2,651\n",
            "Non-trainable params: 0\n",
            "_________________________________________________________________\n"
          ]
        }
      ],
      "source": [
        "print(\"Name: Dharini PV       Register Number: 212222240024\")\n",
        "model.summary()"
      ]
    },
    {
      "cell_type": "code",
      "execution_count": 16,
      "metadata": {
        "id": "fXZtPWTgO5T7"
      },
      "outputs": [
        {
          "name": "stdout",
          "output_type": "stream",
          "text": [
            "Epoch 1/100\n",
            "38/38 [==============================] - 1s 11ms/step - loss: 0.0124\n",
            "Epoch 2/100\n",
            "38/38 [==============================] - 0s 10ms/step - loss: 6.5274e-04\n",
            "Epoch 3/100\n",
            "38/38 [==============================] - 0s 10ms/step - loss: 4.5347e-04\n",
            "Epoch 4/100\n",
            "38/38 [==============================] - 0s 11ms/step - loss: 3.9462e-04\n",
            "Epoch 5/100\n",
            "38/38 [==============================] - 0s 12ms/step - loss: 3.5418e-04\n",
            "Epoch 6/100\n",
            "38/38 [==============================] - 0s 12ms/step - loss: 3.6324e-04\n",
            "Epoch 7/100\n",
            "38/38 [==============================] - 0s 11ms/step - loss: 3.6321e-04\n",
            "Epoch 8/100\n",
            "38/38 [==============================] - 0s 11ms/step - loss: 3.0695e-04\n",
            "Epoch 9/100\n",
            "38/38 [==============================] - 0s 11ms/step - loss: 3.0372e-04\n",
            "Epoch 10/100\n",
            "38/38 [==============================] - 0s 11ms/step - loss: 2.9412e-04\n",
            "Epoch 11/100\n",
            "38/38 [==============================] - 0s 10ms/step - loss: 2.9671e-04\n",
            "Epoch 12/100\n",
            "38/38 [==============================] - 0s 11ms/step - loss: 2.7972e-04\n",
            "Epoch 13/100\n",
            "38/38 [==============================] - 0s 11ms/step - loss: 2.7923e-04\n",
            "Epoch 14/100\n",
            "38/38 [==============================] - 0s 11ms/step - loss: 2.7504e-04\n",
            "Epoch 15/100\n",
            "38/38 [==============================] - 0s 10ms/step - loss: 2.8979e-04\n",
            "Epoch 16/100\n",
            "38/38 [==============================] - 0s 10ms/step - loss: 3.0026e-04\n",
            "Epoch 17/100\n",
            "38/38 [==============================] - 0s 10ms/step - loss: 2.5270e-04\n",
            "Epoch 18/100\n",
            "38/38 [==============================] - 0s 10ms/step - loss: 2.6045e-04\n",
            "Epoch 19/100\n",
            "38/38 [==============================] - 0s 10ms/step - loss: 2.6267e-04\n",
            "Epoch 20/100\n",
            "38/38 [==============================] - 0s 10ms/step - loss: 2.5502e-04\n",
            "Epoch 21/100\n",
            "38/38 [==============================] - 0s 10ms/step - loss: 2.6065e-04\n",
            "Epoch 22/100\n",
            "38/38 [==============================] - 0s 10ms/step - loss: 2.5781e-04\n",
            "Epoch 23/100\n",
            "38/38 [==============================] - 0s 11ms/step - loss: 2.5603e-04\n",
            "Epoch 24/100\n",
            "38/38 [==============================] - 0s 10ms/step - loss: 2.4705e-04\n",
            "Epoch 25/100\n",
            "38/38 [==============================] - 0s 10ms/step - loss: 2.5216e-04\n",
            "Epoch 26/100\n",
            "38/38 [==============================] - 0s 10ms/step - loss: 2.5424e-04\n",
            "Epoch 27/100\n",
            "38/38 [==============================] - 0s 12ms/step - loss: 2.7416e-04\n",
            "Epoch 28/100\n",
            "38/38 [==============================] - 0s 11ms/step - loss: 2.6863e-04\n",
            "Epoch 29/100\n",
            "38/38 [==============================] - 0s 10ms/step - loss: 3.0760e-04\n",
            "Epoch 30/100\n",
            "38/38 [==============================] - 0s 10ms/step - loss: 2.4151e-04\n",
            "Epoch 31/100\n",
            "38/38 [==============================] - 0s 9ms/step - loss: 2.3968e-04\n",
            "Epoch 32/100\n",
            "38/38 [==============================] - 0s 10ms/step - loss: 2.3820e-04\n",
            "Epoch 33/100\n",
            "38/38 [==============================] - 0s 10ms/step - loss: 2.5322e-04\n",
            "Epoch 34/100\n",
            "38/38 [==============================] - 0s 10ms/step - loss: 2.3726e-04\n",
            "Epoch 35/100\n",
            "38/38 [==============================] - 0s 11ms/step - loss: 2.4351e-04\n",
            "Epoch 36/100\n",
            "38/38 [==============================] - 0s 11ms/step - loss: 2.1571e-04\n",
            "Epoch 37/100\n",
            "38/38 [==============================] - 0s 11ms/step - loss: 2.2561e-04\n",
            "Epoch 38/100\n",
            "38/38 [==============================] - 0s 10ms/step - loss: 2.2434e-04\n",
            "Epoch 39/100\n",
            "38/38 [==============================] - 0s 10ms/step - loss: 2.2009e-04\n",
            "Epoch 40/100\n",
            "38/38 [==============================] - 0s 10ms/step - loss: 2.1520e-04\n",
            "Epoch 41/100\n",
            "38/38 [==============================] - 0s 10ms/step - loss: 2.2573e-04\n",
            "Epoch 42/100\n",
            "38/38 [==============================] - 0s 10ms/step - loss: 2.3216e-04\n",
            "Epoch 43/100\n",
            "38/38 [==============================] - 0s 10ms/step - loss: 2.3458e-04\n",
            "Epoch 44/100\n",
            "38/38 [==============================] - 0s 10ms/step - loss: 2.3091e-04\n",
            "Epoch 45/100\n",
            "38/38 [==============================] - 0s 10ms/step - loss: 2.0923e-04\n",
            "Epoch 46/100\n",
            "38/38 [==============================] - 0s 11ms/step - loss: 2.0805e-04\n",
            "Epoch 47/100\n",
            "38/38 [==============================] - 0s 11ms/step - loss: 2.1860e-04\n",
            "Epoch 48/100\n",
            "38/38 [==============================] - 0s 11ms/step - loss: 2.2381e-04\n",
            "Epoch 49/100\n",
            "38/38 [==============================] - 0s 11ms/step - loss: 2.1179e-04\n",
            "Epoch 50/100\n",
            "38/38 [==============================] - 0s 10ms/step - loss: 2.1807e-04\n",
            "Epoch 51/100\n",
            "38/38 [==============================] - 0s 10ms/step - loss: 2.2284e-04\n",
            "Epoch 52/100\n",
            "38/38 [==============================] - 0s 10ms/step - loss: 1.9563e-04\n",
            "Epoch 53/100\n",
            "38/38 [==============================] - 0s 10ms/step - loss: 1.9730e-04\n",
            "Epoch 54/100\n",
            "38/38 [==============================] - 0s 10ms/step - loss: 1.9691e-04\n",
            "Epoch 55/100\n",
            "38/38 [==============================] - 0s 12ms/step - loss: 2.0230e-04\n",
            "Epoch 56/100\n",
            "38/38 [==============================] - 0s 10ms/step - loss: 2.0985e-04\n",
            "Epoch 57/100\n",
            "38/38 [==============================] - 0s 10ms/step - loss: 2.0982e-04\n",
            "Epoch 58/100\n",
            "38/38 [==============================] - 0s 10ms/step - loss: 1.9553e-04\n",
            "Epoch 59/100\n",
            "38/38 [==============================] - 0s 11ms/step - loss: 2.0765e-04\n",
            "Epoch 60/100\n",
            "38/38 [==============================] - 0s 10ms/step - loss: 1.9336e-04\n",
            "Epoch 61/100\n",
            "38/38 [==============================] - 0s 10ms/step - loss: 1.9986e-04\n",
            "Epoch 62/100\n",
            "38/38 [==============================] - 0s 10ms/step - loss: 2.4581e-04\n",
            "Epoch 63/100\n",
            "38/38 [==============================] - 0s 10ms/step - loss: 2.1277e-04\n",
            "Epoch 64/100\n",
            "38/38 [==============================] - 0s 10ms/step - loss: 1.9414e-04\n",
            "Epoch 65/100\n",
            "38/38 [==============================] - 0s 10ms/step - loss: 1.9431e-04\n",
            "Epoch 66/100\n",
            "38/38 [==============================] - 0s 10ms/step - loss: 1.8613e-04\n",
            "Epoch 67/100\n",
            "38/38 [==============================] - 0s 10ms/step - loss: 2.0304e-04\n",
            "Epoch 68/100\n",
            "38/38 [==============================] - 0s 10ms/step - loss: 1.7958e-04\n",
            "Epoch 69/100\n",
            "38/38 [==============================] - 0s 10ms/step - loss: 1.8335e-04\n",
            "Epoch 70/100\n",
            "38/38 [==============================] - 0s 11ms/step - loss: 1.8661e-04\n",
            "Epoch 71/100\n",
            "38/38 [==============================] - 0s 11ms/step - loss: 1.8269e-04\n",
            "Epoch 72/100\n",
            "38/38 [==============================] - 0s 11ms/step - loss: 1.8316e-04\n",
            "Epoch 73/100\n",
            "38/38 [==============================] - 0s 12ms/step - loss: 1.8867e-04\n",
            "Epoch 74/100\n",
            "38/38 [==============================] - 0s 11ms/step - loss: 1.8302e-04\n",
            "Epoch 75/100\n",
            "38/38 [==============================] - 0s 11ms/step - loss: 1.9177e-04\n",
            "Epoch 76/100\n",
            "38/38 [==============================] - 0s 12ms/step - loss: 1.8557e-04\n",
            "Epoch 77/100\n",
            "38/38 [==============================] - 0s 12ms/step - loss: 1.7417e-04\n",
            "Epoch 78/100\n",
            "38/38 [==============================] - 0s 12ms/step - loss: 1.8318e-04\n",
            "Epoch 79/100\n",
            "38/38 [==============================] - 0s 11ms/step - loss: 2.5059e-04\n",
            "Epoch 80/100\n",
            "38/38 [==============================] - 0s 12ms/step - loss: 1.8253e-04\n",
            "Epoch 81/100\n",
            "38/38 [==============================] - 0s 11ms/step - loss: 1.8334e-04\n",
            "Epoch 82/100\n",
            "38/38 [==============================] - 0s 12ms/step - loss: 2.0858e-04\n",
            "Epoch 83/100\n",
            "38/38 [==============================] - 0s 12ms/step - loss: 1.7728e-04\n",
            "Epoch 84/100\n",
            "38/38 [==============================] - 0s 12ms/step - loss: 1.7123e-04\n",
            "Epoch 85/100\n",
            "38/38 [==============================] - 0s 13ms/step - loss: 1.7085e-04\n",
            "Epoch 86/100\n",
            "38/38 [==============================] - 0s 11ms/step - loss: 1.8713e-04\n",
            "Epoch 87/100\n",
            "38/38 [==============================] - 0s 12ms/step - loss: 1.7330e-04\n",
            "Epoch 88/100\n",
            "38/38 [==============================] - 0s 12ms/step - loss: 1.8555e-04\n",
            "Epoch 89/100\n",
            "38/38 [==============================] - 0s 12ms/step - loss: 1.8458e-04\n",
            "Epoch 90/100\n",
            "38/38 [==============================] - 0s 12ms/step - loss: 1.8133e-04\n",
            "Epoch 91/100\n",
            "38/38 [==============================] - 0s 12ms/step - loss: 1.7102e-04\n",
            "Epoch 92/100\n",
            "38/38 [==============================] - 0s 12ms/step - loss: 1.6873e-04\n",
            "Epoch 93/100\n",
            "38/38 [==============================] - 0s 12ms/step - loss: 1.6390e-04\n",
            "Epoch 94/100\n",
            "38/38 [==============================] - 0s 11ms/step - loss: 1.6425e-04\n",
            "Epoch 95/100\n",
            "38/38 [==============================] - 0s 11ms/step - loss: 1.6914e-04\n",
            "Epoch 96/100\n",
            "38/38 [==============================] - 0s 10ms/step - loss: 1.7937e-04\n",
            "Epoch 97/100\n",
            "38/38 [==============================] - 0s 10ms/step - loss: 1.8292e-04\n",
            "Epoch 98/100\n",
            "38/38 [==============================] - 0s 10ms/step - loss: 1.8950e-04\n",
            "Epoch 99/100\n",
            "38/38 [==============================] - 0s 11ms/step - loss: 1.6818e-04\n",
            "Epoch 100/100\n",
            "38/38 [==============================] - 0s 11ms/step - loss: 1.6802e-04\n"
          ]
        },
        {
          "data": {
            "text/plain": [
              "<keras.callbacks.History at 0x7f6b0dd66950>"
            ]
          },
          "execution_count": 16,
          "metadata": {},
          "output_type": "execute_result"
        }
      ],
      "source": [
        "model.fit(X_train1,y_train,epochs=100, batch_size=32)"
      ]
    },
    {
      "cell_type": "code",
      "execution_count": 17,
      "metadata": {
        "id": "OJzVwjRmPqDb"
      },
      "outputs": [],
      "source": [
        "dataset_test = pd.read_csv('testset.csv')"
      ]
    },
    {
      "cell_type": "code",
      "execution_count": 18,
      "metadata": {
        "id": "JPrrd1n-Px7o"
      },
      "outputs": [],
      "source": [
        "test_set = dataset_test.iloc[:,1:2].values"
      ]
    },
    {
      "cell_type": "code",
      "execution_count": 19,
      "metadata": {
        "id": "WQgU2aH0bHZy"
      },
      "outputs": [
        {
          "data": {
            "text/plain": [
              "(125, 1)"
            ]
          },
          "execution_count": 19,
          "metadata": {},
          "output_type": "execute_result"
        }
      ],
      "source": [
        "test_set.shape"
      ]
    },
    {
      "cell_type": "code",
      "execution_count": 20,
      "metadata": {
        "id": "jqBvI7uQa8dz"
      },
      "outputs": [],
      "source": [
        "dataset_total = pd.concat((dataset_train['Open'],dataset_test['Open']),axis=0)"
      ]
    },
    {
      "cell_type": "code",
      "execution_count": 21,
      "metadata": {
        "id": "V6w4Dq01QJXk"
      },
      "outputs": [],
      "source": [
        "inputs = dataset_total.values\n",
        "inputs = inputs.reshape(-1,1)\n",
        "inputs_scaled=sc.transform(inputs)\n",
        "X_test = []\n",
        "for i in range(60,1384):\n",
        "  X_test.append(inputs_scaled[i-60:i,0])\n",
        "X_test = np.array(X_test)\n",
        "X_test = np.reshape(X_test,(X_test.shape[0], X_test.shape[1],1))"
      ]
    },
    {
      "cell_type": "code",
      "execution_count": 22,
      "metadata": {
        "id": "zup_dSFXbqed"
      },
      "outputs": [
        {
          "data": {
            "text/plain": [
              "(1324, 60, 1)"
            ]
          },
          "execution_count": 22,
          "metadata": {},
          "output_type": "execute_result"
        }
      ],
      "source": [
        "X_test.shape"
      ]
    },
    {
      "cell_type": "code",
      "execution_count": 23,
      "metadata": {
        "id": "M02bWmdhRneT"
      },
      "outputs": [
        {
          "name": "stdout",
          "output_type": "stream",
          "text": [
            "42/42 [==============================] - 0s 4ms/step\n"
          ]
        }
      ],
      "source": [
        "predicted_stock_price_scaled = model.predict(X_test)\n",
        "predicted_stock_price = sc.inverse_transform(predicted_stock_price_scaled)"
      ]
    },
    {
      "cell_type": "code",
      "execution_count": 25,
      "metadata": {
        "id": "60GZR-9ZR34C"
      },
      "outputs": [
        {
          "name": "stdout",
          "output_type": "stream",
          "text": [
            "Name:Dharini PV         Register Number:212222240024\n"
          ]
        },
        {
          "data": {
            "image/png": "[encoded data removed]",
            "text/plain": [
              "<Figure size 640x480 with 1 Axes>"
            ]
          },
          "metadata": {},
          "output_type": "display_data"
        }
      ],
      "source": [
        "print(\"Name:Dharini PV         Register Number:212222240024\")\n",
        "plt.plot(np.arange(0,1384),inputs, color='red', label = 'Test(Real) Google stock price')\n",
        "plt.plot(np.arange(60,1384),predicted_stock_price, color='blue', label = 'Predicted Google stock price')\n",
        "plt.title('Google Stock Price Prediction')\n",
        "plt.xlabel('Time')\n",
        "plt.ylabel('Google Stock Price')\n",
        "plt.legend()\n",
        "plt.show()"
      ]
    },
    {
      "cell_type": "code",
      "execution_count": null,
      "metadata": {},
      "outputs": [],
      "source": []
    }
  ],
  "metadata": {
    "colab": {
      "collapsed_sections": [],
      "provenance": []
    },
    "kernelspec": {
      "display_name": "Python 3",
      "name": "python3"
    },
    "language_info": {
      "codemirror_mode": {
        "name": "ipython",
        "version": 3
      },
      "file_extension": ".py",
      "mimetype": "text/x-python",
      "name": "python",
      "nbconvert_exporter": "python",
      "pygments_lexer": "ipython3",
      "version": "3.10.4"
    }
  },
  "nbformat": 4,
  "nbformat_minor": 0
}
